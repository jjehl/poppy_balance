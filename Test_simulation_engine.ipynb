{
 "cells": [
  {
   "cell_type": "code",
   "execution_count": 1,
   "metadata": {
    "collapsed": false
   },
   "outputs": [
    {
     "name": "stdout",
     "output_type": "stream",
     "text": [
      "Populating the interactive namespace from numpy and matplotlib\n"
     ]
    }
   ],
   "source": [
    "from poppy.creatures import PoppyHumanoid\n",
    "\n",
    "poppy = PoppyHumanoid(simulator='vrep')\n",
    "\n",
    "%pylab inline\n",
    "import time"
   ]
  },
  {
   "cell_type": "markdown",
   "metadata": {},
   "source": [
    "Prepared poppy for experiments"
   ]
  },
  {
   "cell_type": "code",
   "execution_count": null,
   "metadata": {
    "collapsed": true
   },
   "outputs": [],
   "source": [
    "poppy.head_y.goto_position(0, 4, wait=False)\n",
    "poppy.r_shoulder_y.goto_position(0, 4, wait=False)\n",
    "poppy.l_shoulder_y.goto_position(0, 4, wait=True)\n",
    "poppy.l_shoulder_x.goto_position(20, 4, wait=False)\n",
    "poppy.r_shoulder_x.goto_position(-20, 4, wait=True)"
   ]
  },
  {
   "cell_type": "markdown",
   "metadata": {},
   "source": [
    "Put poppy's hands in the air and plot the movement"
   ]
  },
  {
   "cell_type": "code",
   "execution_count": 25,
   "metadata": {
    "collapsed": false
   },
   "outputs": [
    {
     "name": "stdout",
     "output_type": "stream",
     "text": [
      "1.3\n",
      "0.8\n"
     ]
    },
    {
     "data": {
      "text/plain": [
       "[<matplotlib.lines.Line2D at 0x5606950>]"
      ]
     },
     "execution_count": 25,
     "metadata": {},
     "output_type": "execute_result"
    },
    {
     "data": {
      "image/png": "[encoded data removed]",
      "text/plain": [
       "<matplotlib.figure.Figure at 0x7009f50>"
      ]
     },
     "metadata": {},
     "output_type": "display_data"
    }
   ],
   "source": [
    "time.sleep(1)\n",
    "poppy.l_shoulder_x.goal_position = 120\n",
    "poppy.r_shoulder_x.goal_position = -120\n",
    "pos = []\n",
    "pos2 = []\n",
    "t = []\n",
    "t2 = []\n",
    "t0 = time.time()\n",
    "while time.time()-t0 <3:\n",
    "    t_simu = poppy.current_simulation_time\n",
    "    time.sleep(0.01)\n",
    "    if poppy.current_simulation_time != t_simu:\n",
    "        \n",
    "        pos.append(poppy.l_shoulder_x.present_position - poppy.l_shoulder_x.goal_position)\n",
    "        t.append(poppy.current_simulation_time)\n",
    "        pos2.append(poppy.r_shoulder_x.present_position - poppy.r_shoulder_x.goal_position)\n",
    "        t2.append(poppy.current_simulation_time)\n",
    "    \n",
    "print poppy.r_shoulder_x.present_position - poppy.r_shoulder_x.goal_position\n",
    "print poppy.l_shoulder_x.present_position - poppy.l_shoulder_x.goal_position\n",
    "plot(t,pos)\n",
    "plot(t2,pos2)"
   ]
  },
  {
   "cell_type": "code",
   "execution_count": null,
   "metadata": {
    "collapsed": true
   },
   "outputs": [],
   "source": []
  }
 ],
 "metadata": {
  "kernelspec": {
   "display_name": "Python 2",
   "language": "python",
   "name": "python2"
  },
  "language_info": {
   "codemirror_mode": {
    "name": "ipython",
    "version": 2
   },
   "file_extension": ".py",
   "mimetype": "text/x-python",
   "name": "python",
   "nbconvert_exporter": "python",
   "pygments_lexer": "ipython2",
   "version": "2.7.9"
  }
 },
 "nbformat": 4,
 "nbformat_minor": 0
}
