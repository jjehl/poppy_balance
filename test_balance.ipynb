{
 "cells": [
  {
   "cell_type": "markdown",
   "metadata": {},
   "source": [
    "# How-To: Control a Poppy Humanoid in V-REP using [pypot](https://github.com/poppy-project/pypot)"
   ]
  },
  {
   "cell_type": "markdown",
   "metadata": {},
   "source": [
    "![alt text](image/vrep-header.png)"
   ]
  },
  {
   "cell_type": "markdown",
   "metadata": {},
   "source": [
    "## Introduction"
   ]
  },
  {
   "cell_type": "markdown",
   "metadata": {},
   "source": [
    "In this notebook, we will present how a simulated poppy humanoid can be controlled in real time using pypot."
   ]
  },
  {
   "cell_type": "markdown",
   "metadata": {},
   "source": [
    "In more details, we will:\n",
    "* see how we can **instantiate a simulated poppy humanoid in V-REP**\n",
    "* learn how we can **read/send values to the motors**\n",
    "* **track** one of poppy's part 3D **position and orientation** (e.g. its head)\n",
    "* write a **simple primitive** to design higher level behaviors"
   ]
  },
  {
   "cell_type": "markdown",
   "metadata": {},
   "source": [
    "*Note: Most of the tutorial is redundant with the ones on how to control a \"real\" poppy creature. In particular, switching from a real robot to a simulated one (and vice versa) can be done just by changing a single line of code (see the [appendix]() at the end of this notebook). Furthermore, most of the notebook can be applied to any [Poppy Creature](https://www.poppy-project.org/technologies/) (and even any \"[pypot robot](http://poppy-project.github.io/pypot/pypot.robot.html#pypot.robot.robot.Robot)\"), only the instantiation method will change.*"
   ]
  },
  {
   "cell_type": "markdown",
   "metadata": {},
   "source": [
    "### What's needed?"
   ]
  },
  {
   "cell_type": "markdown",
   "metadata": {},
   "source": [
    "To follow this tutorial you will need:\n",
    "\n",
    "* the [V-REP](http://www.coppeliarobotics.com) simulator (please directly see [v-rep download section](http://www.coppeliarobotics.com/downloads.html) for installation details)\n",
    "* the python [pypot](https://github.com/poppy-project/pypot) library version >= 2.1\n",
    "* the [poppy_humanoid](https://github.com/poppy-project/Poppy-Humanoid) software library >= 1.0"
   ]
  },
  {
   "cell_type": "markdown",
   "metadata": {},
   "source": [
    "Both V-REP and the pypot/poppy libraries are open source and cross platform. Thus, it should work on Windows, Mac, and Linux."
   ]
  },
  {
   "cell_type": "markdown",
   "metadata": {},
   "source": [
    "The pypot and poppy_humanoid library can be installed via pip:"
   ]
  },
  {
   "cell_type": "markdown",
   "metadata": {},
   "source": [
    "```bash\n",
    "pip install poppy_humanoid\n",
    "```\n",
    "\n",
    "or (depending on your python configuration)\n",
    "\n",
    "```bash\n",
    "sudo pip install poppy_humanoid\n",
    "```"
   ]
  },
  {
   "cell_type": "markdown",
   "metadata": {},
   "source": [
    "You can also install them from the source and then use the classical:\n",
    "\n",
    "```bash\n",
    "python setup.py install\n",
    "```\n",
    "or (depending on your python configuration)\n",
    "```bash\n",
    "sudo python setup.py install\n",
    "```"
   ]
  },
  {
   "cell_type": "markdown",
   "metadata": {},
   "source": [
    "*Note: installing poppy_humanoid will also install pypot as it is one of the depencies.*"
   ]
  },
  {
   "cell_type": "markdown",
   "metadata": {},
   "source": [
    "If you are not familiar with python packages installation process, you can refer to [this documentation](https://packaging.python.org/en/latest/installing.html) for instance."
   ]
  },
  {
   "cell_type": "markdown",
   "metadata": {},
   "source": [
    "### Checking your installation"
   ]
  },
  {
   "cell_type": "markdown",
   "metadata": {},
   "source": [
    "To check if everything is installed correctly, you can run the following code. If it runs without raising an error, everything is probably installed correctly:"
   ]
  },
  {
   "cell_type": "code",
   "execution_count": 1,
   "metadata": {
    "collapsed": false
   },
   "outputs": [],
   "source": [
    "from pypot.vrep import from_vrep\n",
    "from poppy.creatures import PoppyHumanoid"
   ]
  },
  {
   "cell_type": "markdown",
   "metadata": {},
   "source": [
    "If you have any installation issue, please check [our forum](https://forum.poppy-project.org)."
   ]
  },
  {
   "cell_type": "markdown",
   "metadata": {},
   "source": [
    "## Instantiating a [Poppy Humanoid](https://www.poppy-project.org/creatures/poppy-humanoid/)"
   ]
  },
  {
   "cell_type": "markdown",
   "metadata": {},
   "source": [
    "In this section, we will see how a Poppy Humanoid can be instantiated into V-REP and how we can connect it to a [pypot Robot](http://poppy-project.github.io/pypot/pypot.robot.html)."
   ]
  },
  {
   "cell_type": "markdown",
   "metadata": {},
   "source": [
    "First, you will need to launch V-REP (please refer to [V-REP documentation](http://www.coppeliarobotics.com/helpFiles/index.html) if you don't know how to do it). Once it's done you should see something like:\n",
    "\n",
    "![alt text](image/vrep-screenshot.png)"
   ]
  },
  {
   "cell_type": "markdown",
   "metadata": {},
   "source": [
    "Instead of loading a specific scene with a Poppy humanoid through the V-REP GUI and then connect to it using pypot, we will directly instantiate the [PoppyHumanoid](https://github.com/poppy-project/Poppy-Humanoid) class which will do most of the work for us."
   ]
  },
  {
   "cell_type": "markdown",
   "metadata": {},
   "source": [
    "In particular, it will:\n",
    "* load a V-REP scene with a Poppy Humanoid\n",
    "* instantiate a [pypot Robot](http://poppy-project.github.io/pypot/pypot.robot.html) and connect it to the simulated Poppy"
   ]
  },
  {
   "cell_type": "markdown",
   "metadata": {},
   "source": [
    "To do that, we will use the following code:"
   ]
  },
  {
   "cell_type": "code",
   "execution_count": 1,
   "metadata": {
    "collapsed": false
   },
   "outputs": [],
   "source": [
    "from poppy.creatures import PoppyHumanoid\n",
    "\n",
    "poppy = PoppyHumanoid(simulator='vrep', host='127.0.0.1')"
   ]
  },
  {
   "cell_type": "markdown",
   "metadata": {},
   "source": [
    "You should now see a Poppy in your V-REP window:\n",
    "\n",
    "![alt text](image/vrep-poppy.png)"
   ]
  },
  {
   "cell_type": "markdown",
   "metadata": {},
   "source": [
    "**Note: Be careful that VREP is often displaying pop-up that freezes the communication with pypot. You will have to close them otherwise a timeout will occur!**"
   ]
  },
  {
   "cell_type": "markdown",
   "metadata": {},
   "source": [
    "## Controlling motors"
   ]
  },
  {
   "cell_type": "markdown",
   "metadata": {},
   "source": [
    "As soon as you have instantiated a [Robot](http://poppy-project.github.io/pypot/pypot.robot.html#pypot.robot.robot.Robot) - in our case through the [PoppyHumanoid](https://github.com/poppy-project/Poppy-Humanoid) class - it is synced with the simulation (or the real robot). This means that values from the V-REP simulation (e.g. limbs position) are retrieved and affected to their equivalent variables. Similarly target variables (e.g. motors goal position) are sent to V-REP. This synchronization loop runs at 50Hz by default."
   ]
  },
  {
   "cell_type": "markdown",
   "metadata": {},
   "source": [
    "To be more clear, when reading a variable from the *poppy* object you will obtain the last synced value from V-REP and when setting a new value to a *poppy* variable it will be automatically sent to V-REP a short time after. You never need to manually sync your instance with the current state of the simulation, it is automatically done by a thread running in background."
   ]
  },
  {
   "cell_type": "markdown",
   "metadata": {},
   "source": [
    "### Accessing motors registers"
   ]
  },
  {
   "cell_type": "markdown",
   "metadata": {},
   "source": [
    "So, first we will retrieve the list of all available motors. The [motors](http://poppy-project.github.io/pypot/pypot.robot.html#pypot.robot.robot.Robot.motors) variable contains the list of all motors attached to the current robot. \n",
    "\n",
    "By default, each motor print its name, its id, and its current position:"
   ]
  },
  {
   "cell_type": "code",
   "execution_count": 3,
   "metadata": {
    "collapsed": false
   },
   "outputs": [
    {
     "data": {
      "text/plain": [
       "[<DxlMotor name=l_elbow_y id=44 pos=-0.0>,\n",
       " <DxlMotor name=r_elbow_y id=54 pos=-0.0>,\n",
       " <DxlMotor name=r_knee_y id=24 pos=0.2>,\n",
       " <DxlMotor name=head_y id=37 pos=-17.2>,\n",
       " <DxlMotor name=head_z id=36 pos=-0.0>,\n",
       " <DxlMotor name=r_arm_z id=53 pos=-0.0>,\n",
       " <DxlMotor name=r_ankle_y id=25 pos=1.3>,\n",
       " <DxlMotor name=r_shoulder_x id=52 pos=1.1>,\n",
       " <DxlMotor name=r_shoulder_y id=51 pos=0.0>,\n",
       " <DxlMotor name=r_hip_z id=22 pos=0.1>,\n",
       " <DxlMotor name=r_hip_x id=21 pos=0.8>,\n",
       " <DxlMotor name=r_hip_y id=23 pos=-0.0>,\n",
       " <DxlMotor name=l_arm_z id=43 pos=-0.0>,\n",
       " <DxlMotor name=l_hip_x id=11 pos=0.0>,\n",
       " <DxlMotor name=l_hip_y id=13 pos=-0.1>,\n",
       " <DxlMotor name=l_hip_z id=12 pos=0.0>,\n",
       " <DxlMotor name=abs_x id=32 pos=0.0>,\n",
       " <DxlMotor name=abs_y id=31 pos=0.4>,\n",
       " <DxlMotor name=abs_z id=33 pos=0.0>,\n",
       " <DxlMotor name=l_ankle_y id=15 pos=0.6>,\n",
       " <DxlMotor name=bust_y id=34 pos=0.7>,\n",
       " <DxlMotor name=bust_x id=35 pos=0.2>,\n",
       " <DxlMotor name=l_knee_y id=14 pos=0.0>,\n",
       " <DxlMotor name=l_shoulder_x id=42 pos=0.3>,\n",
       " <DxlMotor name=l_shoulder_y id=41 pos=-0.1>]"
      ]
     },
     "execution_count": 3,
     "metadata": {},
     "output_type": "execute_result"
    }
   ],
   "source": [
    "poppy.motors"
   ]
  },
  {
   "cell_type": "markdown",
   "metadata": {},
   "source": [
    "You can access a specific motor directly using its name:"
   ]
  },
  {
   "cell_type": "code",
   "execution_count": 4,
   "metadata": {
    "collapsed": false
   },
   "outputs": [
    {
     "data": {
      "text/plain": [
       "<DxlMotor name=l_shoulder_y id=41 pos=-0.2>"
      ]
     },
     "execution_count": 4,
     "metadata": {},
     "output_type": "execute_result"
    }
   ],
   "source": [
    "poppy.l_shoulder_y"
   ]
  },
  {
   "cell_type": "markdown",
   "metadata": {},
   "source": [
    "If we want to get the current position (in degrees) of a specific motor (e.g. *head_y*) we can use:"
   ]
  },
  {
   "cell_type": "code",
   "execution_count": 2,
   "metadata": {
    "collapsed": false
   },
   "outputs": [
    {
     "data": {
      "text/plain": [
       "-14.0"
      ]
     },
     "execution_count": 2,
     "metadata": {},
     "output_type": "execute_result"
    }
   ],
   "source": [
    "poppy.head_y.present_position"
   ]
  },
  {
   "cell_type": "markdown",
   "metadata": {},
   "source": [
    "You can also use the list/dict comprehension to retrieve a specific value for all motors."
   ]
  },
  {
   "cell_type": "markdown",
   "metadata": {},
   "source": [
    "A list of all current motor positions:"
   ]
  },
  {
   "cell_type": "code",
   "execution_count": 6,
   "metadata": {
    "collapsed": false
   },
   "outputs": [
    {
     "data": {
      "text/plain": [
       "[-0.0,\n",
       " -0.0,\n",
       " 0.2,\n",
       " -17.3,\n",
       " 0.0,\n",
       " -0.0,\n",
       " 1.3,\n",
       " 1.0999999999999943,\n",
       " 0.0,\n",
       " 0.1,\n",
       " 1.0,\n",
       " -0.0,\n",
       " -0.0,\n",
       " -0.1,\n",
       " -0.10000000000000009,\n",
       " -0.0,\n",
       " 0.0,\n",
       " 0.4,\n",
       " 0.0,\n",
       " 0.6,\n",
       " 0.7,\n",
       " 0.2,\n",
       " 0.0,\n",
       " 0.29999999999999716,\n",
       " -0.09999999999999432]"
      ]
     },
     "execution_count": 6,
     "metadata": {},
     "output_type": "execute_result"
    }
   ],
   "source": [
    "[m.present_position for m in poppy.motors]"
   ]
  },
  {
   "cell_type": "markdown",
   "metadata": {},
   "source": [
    "A dictionary of pairs {motor_name: motor_position}:"
   ]
  },
  {
   "cell_type": "code",
   "execution_count": 8,
   "metadata": {
    "collapsed": false
   },
   "outputs": [
    {
     "data": {
      "text/plain": [
       "{u'abs_x': 0.0,\n",
       " u'abs_y': 0.2,\n",
       " u'abs_z': 0.0,\n",
       " u'bust_x': 0.2,\n",
       " u'bust_y': 0.5,\n",
       " u'head_y': -13.9,\n",
       " u'head_z': -0.0,\n",
       " u'l_ankle_y': 0.5,\n",
       " u'l_arm_z': -0.0,\n",
       " u'l_elbow_y': -0.0,\n",
       " u'l_hip_x': -0.1,\n",
       " u'l_hip_y': -0.10000000000000009,\n",
       " u'l_hip_z': 0.0,\n",
       " u'l_knee_y': 0.0,\n",
       " u'l_shoulder_x': 0.20000000000000284,\n",
       " u'l_shoulder_y': 0.09999999999999432,\n",
       " u'r_ankle_y': 1.0,\n",
       " u'r_arm_z': -0.0,\n",
       " u'r_elbow_y': -0.0,\n",
       " u'r_hip_x': 0.8,\n",
       " u'r_hip_y': -0.0,\n",
       " u'r_hip_z': 0.0,\n",
       " u'r_knee_y': 0.2,\n",
       " u'r_shoulder_x': 1.0999999999999943,\n",
       " u'r_shoulder_y': 0.0}"
      ]
     },
     "execution_count": 8,
     "metadata": {},
     "output_type": "execute_result"
    }
   ],
   "source": [
    "{m.name: m.present_position for m in poppy.motors}"
   ]
  },
  {
   "cell_type": "markdown",
   "metadata": {},
   "source": [
    "### Motor alias"
   ]
  },
  {
   "cell_type": "markdown",
   "metadata": {},
   "source": [
    "The motor variable is just one of the predefined motors alias - one with all attached motors. Poppy Humanoid also defines a *leg* alias, a *left arm* alias..."
   ]
  },
  {
   "cell_type": "markdown",
   "metadata": {},
   "source": [
    "You can retrieve the list of motors alias available using:"
   ]
  },
  {
   "cell_type": "code",
   "execution_count": 4,
   "metadata": {
    "collapsed": false
   },
   "outputs": [
    {
     "data": {
      "text/plain": [
       "[u'r_leg',\n",
       " u'torso',\n",
       " u'l_leg_sagitall',\n",
       " u'head',\n",
       " u'l_arm',\n",
       " u'r_leg_sagitall',\n",
       " u'l_leg',\n",
       " u'arms',\n",
       " u'legs',\n",
       " u'r_arm']"
      ]
     },
     "execution_count": 4,
     "metadata": {},
     "output_type": "execute_result"
    }
   ],
   "source": [
    "poppy.alias"
   ]
  },
  {
   "cell_type": "markdown",
   "metadata": {},
   "source": [
    "Each alias contains a list of motors. Thus, you can similarly retrieve all positions for only the motors of the right leg:"
   ]
  },
  {
   "cell_type": "code",
   "execution_count": 5,
   "metadata": {
    "collapsed": false
   },
   "outputs": [
    {
     "data": {
      "text/plain": [
       "{u'r_ankle_y': 1.1,\n",
       " u'r_hip_x': 0.8,\n",
       " u'r_hip_y': -0.0,\n",
       " u'r_hip_z': 0.0,\n",
       " u'r_knee_y': 0.2}"
      ]
     },
     "execution_count": 5,
     "metadata": {},
     "output_type": "execute_result"
    }
   ],
   "source": [
    "{m.name: m.present_position for m in poppy.r_leg}"
   ]
  },
  {
   "cell_type": "markdown",
   "metadata": {},
   "source": [
    "### Setting registers"
   ]
  },
  {
   "cell_type": "markdown",
   "metadata": {},
   "source": [
    "In a similar way that you retrieve values from V-REP, you can set a new target position to a motor."
   ]
  },
  {
   "cell_type": "markdown",
   "metadata": {},
   "source": [
    "By sending the following command, you should see the robot turns its head of 90°:"
   ]
  },
  {
   "cell_type": "code",
   "execution_count": 7,
   "metadata": {
    "collapsed": false
   },
   "outputs": [],
   "source": [
    "poppy.head_z.goal_position = 90."
   ]
  },
  {
   "cell_type": "markdown",
   "metadata": {},
   "source": [
    "Or you can affect new target positions for a group of motors:"
   ]
  },
  {
   "cell_type": "code",
   "execution_count": 8,
   "metadata": {
    "collapsed": false
   },
   "outputs": [],
   "source": [
    "for m in poppy.l_arm:\n",
    "    m.goal_position = 30."
   ]
  },
  {
   "cell_type": "markdown",
   "metadata": {},
   "source": [
    "It's important to note the difference between the current and goal position. In particular, when setting a new goal position, it will take time before the motor actually reaches the desired position (see section below for an example)."
   ]
  },
  {
   "cell_type": "markdown",
   "metadata": {},
   "source": [
    "Thus, in the code below only the second instruction will likely have an effect on the robot:"
   ]
  },
  {
   "cell_type": "code",
   "execution_count": 9,
   "metadata": {
    "collapsed": false
   },
   "outputs": [],
   "source": [
    "poppy.r_shoulder_x.goal_position = 30\n",
    "poppy.r_shoulder_x.goal_position = -30"
   ]
  },
  {
   "cell_type": "markdown",
   "metadata": {},
   "source": [
    "*Note: While the full list of motor registers is available, not all of them are having an effect in the V-REP simulation. For instance, modifying the pid of a motor won't affect the simulation.*\n",
    "\n",
    "*Currently you can use:*\n",
    "\n",
    "* *present_position (R)*\n",
    "* *goal_position (RW)*\n",
    "* *present_load (R)*\n",
    "* *torque_limit (RW)*\n",
    "* *compliant (RW)*\n",
    "* *angle_limit (R)*\n",
    "\n",
    "*Support for additional features may be added in future version.*"
   ]
  },
  {
   "cell_type": "markdown",
   "metadata": {},
   "source": [
    "### Goto position"
   ]
  },
  {
   "cell_type": "markdown",
   "metadata": {},
   "source": [
    "You can also use the [goto_position](http://poppy-project.github.io/pypot/pypot.dynamixel.html#pypot.dynamixel.motor.DxlMotor.goto_position) method (both at the robot or motor level) to get more control over the trajectory of a motor. In the examples above, when affecting the [goal_position](http://poppy-project.github.io/pypot/pypot.dynamixel.html#pypot.dynamixel.io.DxlIO.get_goal_position) the motor will try to reach it as fast as the [moving_speed](http://poppy-project.github.io/pypot/pypot.dynamixel.html#pypot.dynamixel.io.DxlIO.get_moving_speed) permits it. "
   ]
  },
  {
   "cell_type": "markdown",
   "metadata": {},
   "source": [
    "At the moment, [goto_position](http://poppy-project.github.io/pypot/pypot.dynamixel.html#pypot.dynamixel.motor.DxlMotor.goto_position) comes with two behaviors:\n",
    "* *dummy:* just adjust the moving_speed so the goal_position is reached at the predefined timestamp (not always very accurate)\n",
    "* *minjerk:* using the [minimum jerk](http://nbviewer.ipython.org/github/demotu/BMC/blob/master/notebooks/MinimumJerkHypothesis.ipynb) to compute a smoother trajectory."
   ]
  },
  {
   "cell_type": "markdown",
   "metadata": {},
   "source": [
    "First, let's restart the simulation:"
   ]
  },
  {
   "cell_type": "code",
   "execution_count": 10,
   "metadata": {
    "collapsed": false
   },
   "outputs": [],
   "source": [
    "poppy.reset_simulation()"
   ]
  },
  {
   "cell_type": "markdown",
   "metadata": {},
   "source": [
    "Now, we make the head move towards -45° in 2 seconds:"
   ]
  },
  {
   "cell_type": "code",
   "execution_count": 9,
   "metadata": {
    "collapsed": false
   },
   "outputs": [],
   "source": [
    "poppy.head_z.goto_position(-45, 2)"
   ]
  },
  {
   "cell_type": "markdown",
   "metadata": {},
   "source": [
    "Goto position also comes with a wait arguments, so you can easily link motions:"
   ]
  },
  {
   "cell_type": "code",
   "execution_count": 11,
   "metadata": {
    "collapsed": false
   },
   "outputs": [],
   "source": [
    "poppy.head_z.goto_position(45, 2, wait=False)\n",
    "poppy.head_y.goto_position(-30, 2, wait=True)\n",
    "\n",
    "poppy.head_z.goto_position(0, 2, wait=True)\n",
    "\n",
    "poppy.head_y.goto_position(20, 1, wait=True)"
   ]
  },
  {
   "cell_type": "markdown",
   "metadata": {},
   "source": [
    "You can get and set a new *goto_behavior* through the property:"
   ]
  },
  {
   "cell_type": "code",
   "execution_count": 3,
   "metadata": {
    "collapsed": false
   },
   "outputs": [
    {
     "data": {
      "text/plain": [
       "'minjerk'"
      ]
     },
     "execution_count": 3,
     "metadata": {},
     "output_type": "execute_result"
    }
   ],
   "source": [
    "poppy.head_y.goto_behavior"
   ]
  },
  {
   "cell_type": "code",
   "execution_count": 67,
   "metadata": {
    "collapsed": false
   },
   "outputs": [],
   "source": [
    "poppy.head_y.goto_behavior = 'dummy'"
   ]
  },
  {
   "cell_type": "markdown",
   "metadata": {},
   "source": [
    "### Read and Write"
   ]
  },
  {
   "cell_type": "markdown",
   "metadata": {},
   "source": [
    "Let's prepare another example where we will illustrate the difference between present and goal position by applying a sinusoid on a specific motor."
   ]
  },
  {
   "cell_type": "markdown",
   "metadata": {},
   "source": [
    "To make sure the robot is in a \"correct\" position, we will reset the simulation. This will re-positioned the robot in its initial position:"
   ]
  },
  {
   "cell_type": "code",
   "execution_count": 69,
   "metadata": {
    "collapsed": false
   },
   "outputs": [],
   "source": [
    "poppy.reset_simulation()"
   ]
  },
  {
   "cell_type": "markdown",
   "metadata": {},
   "source": [
    "Now let's make the robot's head moves:"
   ]
  },
  {
   "cell_type": "code",
   "execution_count": 4,
   "metadata": {
    "collapsed": false
   },
   "outputs": [],
   "source": [
    "import time\n",
    "\n",
    "import math\n",
    "\n",
    "amp = 30 # in degrees\n",
    "freq = 0.5 # in Hz\n",
    "\n",
    "t0 = time.time()\n",
    "\n",
    "while True:\n",
    "    t = time.time()\n",
    "    \n",
    "    # run for 10s\n",
    "    if t - t0 > 10:\n",
    "        break\n",
    "\n",
    "    poppy.head_z.goal_position = amp * math.sin(2 * 3.14 * freq * t)\n",
    "    \n",
    "    time.sleep(0.04)"
   ]
  },
  {
   "cell_type": "markdown",
   "metadata": {},
   "source": [
    "Now we will use the same code but we will record both the current and goal position:"
   ]
  },
  {
   "cell_type": "code",
   "execution_count": 5,
   "metadata": {
    "collapsed": false
   },
   "outputs": [],
   "source": [
    "current, goal, t = [], [], []\n",
    "\n",
    "t0 = time.time()\n",
    "\n",
    "while True:\n",
    "    t1 = time.time()\n",
    "    \n",
    "    # run for 5s\n",
    "    if t1 - t0 > 10:\n",
    "        break\n",
    "\n",
    "    poppy.head_z.goal_position = amp * math.sin(2 * 3.14 * freq * t1)\n",
    "\n",
    "    \n",
    "    current.append(poppy.head_z.present_position)\n",
    "    goal.append(poppy.head_z.goal_position)\n",
    "    t.append(poppy.current_simulation_time)\n",
    "    time.sleep(0.04)"
   ]
  },
  {
   "cell_type": "markdown",
   "metadata": {},
   "source": [
    "If we plot the two trajectories, we can clearly see a time shift representing the time needed by the motor to reach the desired position: "
   ]
  },
  {
   "cell_type": "code",
   "execution_count": 6,
   "metadata": {
    "collapsed": false
   },
   "outputs": [
    {
     "name": "stdout",
     "output_type": "stream",
     "text": [
      "Populating the interactive namespace from numpy and matplotlib\n"
     ]
    },
    {
     "data": {
      "text/plain": [
       "<matplotlib.legend.Legend at 0x5802990>"
      ]
     },
     "execution_count": 6,
     "metadata": {},
     "output_type": "execute_result"
    },
    {
     "data": {
      "image/png": "[encoded data removed]",
      "text/plain": [
       "<matplotlib.figure.Figure at 0x2e5f870>"
      ]
     },
     "metadata": {},
     "output_type": "display_data"
    }
   ],
   "source": [
    "%pylab inline\n",
    "\n",
    "t = linspace(0, 5, len(current))\n",
    "plot(t, goal)\n",
    "plot(t, current)\n",
    "\n",
    "legend(('goal', 'current'))"
   ]
  },
  {
   "cell_type": "markdown",
   "metadata": {},
   "source": [
    "Similarly, we can observe a goto position using the *minimum jerk* mode which shows the smooth acceleration and deceleration:"
   ]
  },
  {
   "cell_type": "code",
   "execution_count": 18,
   "metadata": {
    "collapsed": false
   },
   "outputs": [
    {
     "data": {
      "text/plain": [
       "[<matplotlib.lines.Line2D at 0x6e14e70>]"
      ]
     },
     "execution_count": 18,
     "metadata": {},
     "output_type": "execute_result"
    },
    {
     "data": {
      "image/png": "[encoded data removed]",
      "text/plain": [
       "<matplotlib.figure.Figure at 0x69405d0>"
      ]
     },
     "metadata": {},
     "output_type": "display_data"
    }
   ],
   "source": [
    "poppy.l_shoulder_x.goto_behavior = 'minjerk'\n",
    "\n",
    "poppy.l_shoulder_x.goto_position(130, 2)\n",
    "\n",
    "pos = []\n",
    "t= []\n",
    "t0 = time.time()\n",
    "\n",
    "while time.time() - t0 < 30:\n",
    "    pos.append(poppy.l_shoulder_x.present_position)\n",
    "    t.append(poppy.current_simulation_time)\n",
    "    time.sleep(0.02)\n",
    "    \n",
    "#print poppy.current_simulation_time\n",
    "    \n",
    "#t = linspace(0, 30, len(pos))\n",
    "plot(t, pos)"
   ]
  },
  {
   "cell_type": "code",
   "execution_count": 14,
   "metadata": {
    "collapsed": false
   },
   "outputs": [],
   "source": [
    "poppy.reset_simulation()"
   ]
  },
  {
   "cell_type": "markdown",
   "metadata": {},
   "source": [
    "## Tracking objects"
   ]
  },
  {
   "cell_type": "markdown",
   "metadata": {},
   "source": [
    "Using a V-REP simulated robot, you can easily retrieve an object position and orientation. You just need to know its name in the vrep scene."
   ]
  },
  {
   "cell_type": "markdown",
   "metadata": {},
   "source": [
    "For instance, to get the 3D position of the left hand, you just have to do:"
   ]
  },
  {
   "cell_type": "code",
   "execution_count": 19,
   "metadata": {
    "collapsed": false
   },
   "outputs": [
    {
     "data": {
      "text/plain": [
       "[0.33110520243644714, 0.03324659913778305, 0.7443821430206299]"
      ]
     },
     "execution_count": 19,
     "metadata": {},
     "output_type": "execute_result"
    }
   ],
   "source": [
    "poppy.get_object_position('l_forearm_visual')"
   ]
  },
  {
   "cell_type": "markdown",
   "metadata": {},
   "source": [
    "This can be used for discovering a reachable space for instance:"
   ]
  },
  {
   "cell_type": "code",
   "execution_count": null,
   "metadata": {
    "collapsed": false
   },
   "outputs": [],
   "source": [
    "reached_pt = []\n",
    "\n",
    "for m in poppy.l_arm:\n",
    "    m.goto_behavior = 'minjerk'\n",
    "\n",
    "for _ in range(25):\n",
    "    poppy.reset_simulation()\n",
    "    \n",
    "    pos = {m.name: randint(min(m.angle_limit), max(m.angle_limit)) for m in poppy.l_arm}\n",
    "    poppy.goto_position(pos, 2., wait=True)\n",
    "        \n",
    "    reached_pt.append(poppy.get_object_position('l_forearm_visual'))"
   ]
  },
  {
   "cell_type": "code",
   "execution_count": null,
   "metadata": {
    "collapsed": false
   },
   "outputs": [],
   "source": [
    "from mpl_toolkits.mplot3d import Axes3D\n",
    "\n",
    "ax = axes(projection='3d')\n",
    "ax.scatter(*array(reached_pt).T)"
   ]
  },
  {
   "cell_type": "markdown",
   "metadata": {},
   "source": [
    "Please see the [explauto](https://github.com/flowersteam/explauto) library if you are interested in autonomous exploration experiment using a Poppy Creature."
   ]
  },
  {
   "cell_type": "code",
   "execution_count": 27,
   "metadata": {
    "collapsed": false
   },
   "outputs": [],
   "source": [
    "poppy.reset_simulation()"
   ]
  },
  {
   "cell_type": "markdown",
   "metadata": {},
   "source": [
    "## Using primitives"
   ]
  },
  {
   "cell_type": "markdown",
   "metadata": {},
   "source": [
    "Pypot also comes with the [Primitive](http://poppy-project.github.io/pypot/primitive.html) abstraction. The idea is to write simple behaviors that can be automatically combined to create more complex behaviors. As the primitive is likely to change in the future, and go toward something better defined, we will only show the very basic stuff you can do using primitives."
   ]
  },
  {
   "cell_type": "markdown",
   "metadata": {},
   "source": [
    "In more technical details, a primitive is only a thread which have access to all robot sensors and effectors. A [primitive manager](http://poppy-project.github.io/pypot/pypot.primitive.html#module-pypot.primitive.manager) is used to gather all primitives orders and combined them using a filter (a simple sum by default)."
   ]
  },
  {
   "cell_type": "markdown",
   "metadata": {},
   "source": [
    "As an example of how to use primitives, we will use one of the predefined primitives, the [Sinus](http://poppy-project.github.io/pypot/pypot.primitive.html#pypot.primitive.utils.Sinus):"
   ]
  },
  {
   "cell_type": "code",
   "execution_count": 28,
   "metadata": {
    "collapsed": false
   },
   "outputs": [],
   "source": [
    "from pypot.primitive.utils import Sinus"
   ]
  },
  {
   "cell_type": "markdown",
   "metadata": {},
   "source": [
    "Primitives are usually instantiated with a robot as the first argument. As Sinus is a [LoopPrimitive](http://poppy-project.github.io/pypot/pypot.primitive.html#pypot.primitive.primitive.LoopPrimitive) (i.e. a specific primitive which call an update method at a predefined frequency), you also need to pass the call frequency as the second argument)."
   ]
  },
  {
   "cell_type": "markdown",
   "metadata": {},
   "source": [
    "The other arguments, here the motors list, the amplitude and the frequency are specific to the [Sinus](http://poppy-project.github.io/pypot/pypot.primitive.html#pypot.primitive.utils.Sinus) primitive."
   ]
  },
  {
   "cell_type": "code",
   "execution_count": 29,
   "metadata": {
    "collapsed": false
   },
   "outputs": [],
   "source": [
    "sin_1 = Sinus(poppy, 25., [poppy.head_z, poppy.head_y], amp=15, freq=.15)"
   ]
  },
  {
   "cell_type": "markdown",
   "metadata": {},
   "source": [
    "A primitive can be:\n",
    "* started (re-started)\n",
    "* stopped\n",
    "* paused\n",
    "* resumed"
   ]
  },
  {
   "cell_type": "markdown",
   "metadata": {},
   "source": [
    "By running the following code, you should see both motors of the head performs a sinusoid."
   ]
  },
  {
   "cell_type": "code",
   "execution_count": 30,
   "metadata": {
    "collapsed": false
   },
   "outputs": [],
   "source": [
    "sin_1.start()"
   ]
  },
  {
   "cell_type": "markdown",
   "metadata": {},
   "source": [
    "Multiples primitives can be runned at the same time:"
   ]
  },
  {
   "cell_type": "code",
   "execution_count": 31,
   "metadata": {
    "collapsed": false
   },
   "outputs": [],
   "source": [
    "sin_2 = Sinus(poppy, 25., [poppy.head_z, ], amp=8, freq=.5)\n",
    "sin_2.start()"
   ]
  },
  {
   "cell_type": "markdown",
   "metadata": {},
   "source": [
    "We will now write a simple motor position logger using a loop primitive:"
   ]
  },
  {
   "cell_type": "code",
   "execution_count": 32,
   "metadata": {
    "collapsed": false
   },
   "outputs": [],
   "source": [
    "from pypot.primitive import LoopPrimitive\n",
    "\n",
    "class MotorPositionLogger(LoopPrimitive):\n",
    "    def __init__(self, robot, refresh_freq, motor):\n",
    "        LoopPrimitive.__init__(self, robot, refresh_freq)\n",
    "        \n",
    "        self.motor = getattr(self.robot, motor.name)\n",
    "\n",
    "    # This code will be called each time the primitive is started\n",
    "    def setup(self):\n",
    "        self.positions = []\n",
    "       \n",
    "    # This method will be called at the predefined frequency\n",
    "    def update(self):\n",
    "        self.positions.append(self.motor.present_position)"
   ]
  },
  {
   "cell_type": "code",
   "execution_count": 33,
   "metadata": {
    "collapsed": false
   },
   "outputs": [],
   "source": [
    "logger = MotorPositionLogger(poppy, 50, poppy.head_z)"
   ]
  },
  {
   "cell_type": "markdown",
   "metadata": {},
   "source": [
    "We will illustrate the combination of primitives by pausing one of them in the middle of the recording:"
   ]
  },
  {
   "cell_type": "code",
   "execution_count": 34,
   "metadata": {
    "collapsed": false
   },
   "outputs": [
    {
     "data": {
      "text/plain": [
       "[<matplotlib.lines.Line2D at 0x108c34f90>]"
      ]
     },
     "execution_count": 34,
     "metadata": {},
     "output_type": "execute_result"
    },
    {
     "data": {
      "image/png": "[encoded data removed]",
      "text/plain": [
       "<matplotlib.figure.Figure at 0x1083b7f90>"
      ]
     },
     "metadata": {},
     "output_type": "display_data"
    }
   ],
   "source": [
    "logger.start()\n",
    "\n",
    "time.sleep(10)\n",
    "sin_2.pause()\n",
    "\n",
    "time.sleep(15)\n",
    "sin_2.resume()\n",
    "\n",
    "time.sleep(5)\n",
    "logger.stop()\n",
    "\n",
    "pos = logger.positions\n",
    "\n",
    "plot(linspace(0, 30, len(pos)), pos)"
   ]
  },
  {
   "cell_type": "markdown",
   "metadata": {},
   "source": [
    "You can see on the plot above, that the two sinusoids are combined from 0 to 10 and from 25 to 30. From 10 to 25 only one of the sinusoid is applied."
   ]
  },
  {
   "cell_type": "markdown",
   "metadata": {},
   "source": [
    "Now we stop all running primitives:"
   ]
  },
  {
   "cell_type": "code",
   "execution_count": 35,
   "metadata": {
    "collapsed": false
   },
   "outputs": [],
   "source": [
    "for p in poppy.active_primitives:\n",
    "    p.stop()"
   ]
  },
  {
   "cell_type": "markdown",
   "metadata": {},
   "source": [
    "# Appendix: switching from a simulated poppy to a real one"
   ]
  },
  {
   "cell_type": "markdown",
   "metadata": {},
   "source": [
    "As mentionned in the introduction, most of the code above can be run on a \"real\" robot. All you need to change is the way the robot is instantiated. "
   ]
  },
  {
   "cell_type": "markdown",
   "metadata": {},
   "source": [
    "You have to replace:"
   ]
  },
  {
   "cell_type": "markdown",
   "metadata": {},
   "source": [
    "```python\n",
    "poppy = PoppyHumanoid(simulator='vrep')\n",
    "```\n",
    "\n",
    "by \n",
    "\n",
    "```python\n",
    "poppy = PoppyHumanoid()\n",
    "```"
   ]
  },
  {
   "cell_type": "markdown",
   "metadata": {},
   "source": [
    "Of course, some of the directly V-REP related code - such as *reset_simulation* or *get_object_position* does not have any direct equivalent on the real robot. But all the rest should work and give about the same results on the real or the simulated robot."
   ]
  }
 ],
 "metadata": {
  "language_info": {
   "codemirror_mode": {
    "name": "ipython",
    "version": 2
   },
   "file_extension": ".py",
   "mimetype": "text/x-python",
   "name": "python",
   "nbconvert_exporter": "python",
   "pygments_lexer": "ipython2",
   "version": "2.7.9"
  }
 },
 "nbformat": 4,
 "nbformat_minor": 0
}
