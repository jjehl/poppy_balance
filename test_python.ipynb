{
 "cells": [
  {
   "cell_type": "markdown",
   "metadata": {},
   "source": [
    "Initialisation du robot\n"
   ]
  },
  {
   "cell_type": "code",
   "execution_count": 1,
   "metadata": {
    "collapsed": false
   },
   "outputs": [
    {
     "name": "stdout",
     "output_type": "stream",
     "text": [
      "Populating the interactive namespace from numpy and matplotlib\n"
     ]
    }
   ],
   "source": [
    "from poppy.creatures import PoppyHumanoid\n",
    "\n",
    "poppy = PoppyHumanoid(simulator='vrep')\n",
    "\n",
    "%pylab inline\n",
    "import time"
   ]
  },
  {
   "cell_type": "code",
   "execution_count": 2,
   "metadata": {
    "collapsed": false
   },
   "outputs": [
    {
     "data": {
      "text/plain": [
       "['__class__',\n",
       " '__delattr__',\n",
       " '__dict__',\n",
       " '__doc__',\n",
       " '__format__',\n",
       " '__getattribute__',\n",
       " '__hash__',\n",
       " '__init__',\n",
       " '__module__',\n",
       " '__new__',\n",
       " '__reduce__',\n",
       " '__reduce_ex__',\n",
       " '__repr__',\n",
       " '__setattr__',\n",
       " '__sizeof__',\n",
       " '__str__',\n",
       " '__subclasshook__',\n",
       " '__weakref__',\n",
       " '_attached_primitives',\n",
       " '_controllers',\n",
       " '_motors',\n",
       " '_primitive_manager',\n",
       " '_sensors',\n",
       " '_syncing',\n",
       " 'abs_x',\n",
       " 'abs_y',\n",
       " 'abs_z',\n",
       " 'active_primitives',\n",
       " 'alias',\n",
       " 'arms',\n",
       " 'attach_primitive',\n",
       " 'bust_x',\n",
       " 'bust_y',\n",
       " 'close',\n",
       " 'compliant',\n",
       " 'current_simulation_time',\n",
       " 'dance_beat_motion',\n",
       " 'get_object_orientation',\n",
       " 'get_object_position',\n",
       " 'goto_position',\n",
       " 'head',\n",
       " 'head_y',\n",
       " 'head_z',\n",
       " 'l_ankle_y',\n",
       " 'l_arm',\n",
       " 'l_arm_z',\n",
       " 'l_elbow_y',\n",
       " 'l_hip_x',\n",
       " 'l_hip_y',\n",
       " 'l_hip_z',\n",
       " 'l_knee_y',\n",
       " 'l_leg',\n",
       " 'l_leg_sagitall',\n",
       " 'l_shoulder_x',\n",
       " 'l_shoulder_y',\n",
       " 'legs',\n",
       " 'limit_torque',\n",
       " 'motors',\n",
       " 'power_up',\n",
       " 'primitives',\n",
       " 'r_ankle_y',\n",
       " 'r_arm',\n",
       " 'r_arm_z',\n",
       " 'r_elbow_y',\n",
       " 'r_hip_x',\n",
       " 'r_hip_y',\n",
       " 'r_hip_z',\n",
       " 'r_knee_y',\n",
       " 'r_leg',\n",
       " 'r_leg_sagitall',\n",
       " 'r_shoulder_x',\n",
       " 'r_shoulder_y',\n",
       " 'reset_simulation',\n",
       " 'sensors',\n",
       " 'simulated',\n",
       " 'sit_position',\n",
       " 'stand_position',\n",
       " 'start_simulation',\n",
       " 'start_sync',\n",
       " 'stop_simulation',\n",
       " 'stop_sync',\n",
       " 'to_config',\n",
       " 'torso']"
      ]
     },
     "execution_count": 2,
     "metadata": {},
     "output_type": "execute_result"
    }
   ],
   "source": [
    "dir (poppy)\n",
    "\n"
   ]
  },
  {
   "cell_type": "code",
   "execution_count": 2,
   "metadata": {
    "collapsed": false
   },
   "outputs": [
    {
     "name": "stdout",
     "output_type": "stream",
     "text": [
      "DxlMXMotor\n"
     ]
    }
   ],
   "source": [
    "print poppy.l_shoulder_x.__class__.__name__"
   ]
  },
  {
   "cell_type": "code",
   "execution_count": 63,
   "metadata": {
    "collapsed": false
   },
   "outputs": [
    {
     "name": "stdout",
     "output_type": "stream",
     "text": [
      "0.005\n",
      "0.105\n",
      "0.205\n",
      "0.305\n",
      "0.405\n",
      "0.505\n",
      "0.605\n",
      "0.705\n",
      "0.805\n",
      "0.905\n",
      "[0.025564968585968018, 0.008714918978512287, 0.7488871216773987]\n",
      "[0.025555623695254326, 0.008629546500742435, 0.7488812208175659]\n",
      "[0.025555623695254326, 0.008629546500742435, 0.7488812208175659]\n",
      "[0.025555623695254326, 0.008629546500742435, 0.7488812208175659]\n",
      "[0.025462759658694267, 0.008619064465165138, 0.7488573789596558]\n",
      "[0.025462759658694267, 0.008619064465165138, 0.7488573789596558]\n",
      "[0.025424279272556305, 0.008512617088854313, 0.7487642168998718]\n",
      "[0.025424279272556305, 0.008512617088854313, 0.7487642168998718]\n",
      "[0.025424279272556305, 0.008512617088854313, 0.7487642168998718]\n",
      "[0.025380292907357216, 0.00865013338625431, 0.748900294303894]\n",
      "250.861\n",
      "250.911\n",
      "250.911\n",
      "250.911\n",
      "250.961\n",
      "250.961\n",
      "251.011\n",
      "251.011\n",
      "251.011\n",
      "251.061\n"
     ]
    }
   ],
   "source": [
    "t_simu = []\n",
    "t_reel = []\n",
    "list_pos= []\n",
    "t0 = time.time()\n",
    "while time.time() - t0 < 1:\n",
    "    list_pos.append(poppy.get_object_position('head_visual'))\n",
    "    t_simu.append(poppy.current_simulation_time)\n",
    "    t_reel.append(time.time()-t0)\n",
    "    time.sleep(0.1)\n",
    "for tp in t_reel:\n",
    "    print round(tp,3)\n",
    "    \n",
    "for pos in list_pos:\n",
    "    print pos\n",
    "    \n",
    "for tp in t_simu:\n",
    "    print round(tp,3)\n",
    "    "
   ]
  },
  {
   "cell_type": "code",
   "execution_count": 3,
   "metadata": {
    "collapsed": false
   },
   "outputs": [
    {
     "name": "stdout",
     "output_type": "stream",
     "text": [
      "[1.6036365032196045, -0.008407093584537506, -0.0075979940593242645]\n"
     ]
    }
   ],
   "source": [
    "orient = poppy.get_object_orientation('abs_x')\n",
    "print orient\n"
   ]
  },
  {
   "cell_type": "code",
   "execution_count": 7,
   "metadata": {
    "collapsed": true
   },
   "outputs": [],
   "source": [
    "poppy.l_shoulder_x.goto_position(10, 2, wait=True)\n",
    "poppy.l_shoulder_y.goto_position(10, 2, wait=True)\n",
    "poppy.r_shoulder_x.goto_position(10, 2, wait=True)\n",
    "poppy.r_shoulder_y.goto_position(10, 2, wait=True)"
   ]
  },
  {
   "cell_type": "code",
   "execution_count": null,
   "metadata": {
    "collapsed": true
   },
   "outputs": [],
   "source": []
  }
 ],
 "metadata": {
  "kernelspec": {
   "display_name": "Python 2",
   "language": "python",
   "name": "python2"
  },
  "language_info": {
   "codemirror_mode": {
    "name": "ipython",
    "version": 2
   },
   "file_extension": ".py",
   "mimetype": "text/x-python",
   "name": "python",
   "nbconvert_exporter": "python",
   "pygments_lexer": "ipython2",
   "version": "2.7.9"
  }
 },
 "nbformat": 4,
 "nbformat_minor": 0
}
